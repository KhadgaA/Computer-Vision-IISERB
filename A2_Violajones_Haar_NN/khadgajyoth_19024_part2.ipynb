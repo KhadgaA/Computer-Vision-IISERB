{
 "cells": [
  {
   "cell_type": "markdown",
   "id": "1b7f573c-b019-42b9-8792-8cf295e39adc",
   "metadata": {},
   "source": [
    "## Q8 MNIST with Transfer Learning"
   ]
  },
  {
   "cell_type": "code",
   "execution_count": 1,
   "id": "69a8d3fb-1fdb-4c5f-af46-b59fa211159b",
   "metadata": {},
   "outputs": [],
   "source": [
    "#Deep Learning\n",
    "import tensorflow as tf\n",
    "from tensorflow import keras\n",
    "from tensorflow.keras import layers as L\n",
    "from tensorflow.keras import layers\n",
    "from tensorflow.keras.models import Sequential, Model\n",
    "from tensorflow.keras.preprocessing.image import ImageDataGenerator\n",
    "\n",
    "#Data Visualizations\n",
    "import matplotlib.pyplot as plt\n",
    "# !pip install seaborn\n",
    "import os\n",
    "import cv2\n",
    "import numpy as np\n",
    "import seaborn as sns\n",
    "import struct\n",
    "from tqdm import tqdm\n",
    "from random import shuffle\n",
    "import pandas as pd"
   ]
  },
  {
   "cell_type": "code",
   "execution_count": 2,
   "id": "ae0ab177-af53-4207-9456-58bbf523cc13",
   "metadata": {},
   "outputs": [],
   "source": [
    "with open('train-images-idx3-ubyte/train-images.idx3-ubyte', 'rb') as f:\n",
    "    magic, size = struct.unpack('>II', f.read(8))\n",
    "    nrows, ncols = struct.unpack('>II', f.read(8))\n",
    "    data = np.fromfile(f, dtype=np.dtype(np.uint8)).newbyteorder(\">\")\n",
    "    data = data.reshape((size,nrows,ncols))\n",
    "with open('train-labels-idx1-ubyte/train-labels.idx1-ubyte', 'rb') as i:\n",
    "    magic, size = struct.unpack('>II', i.read(8))\n",
    "    data_1 = np.fromfile(i, dtype=np.dtype(np.uint8)).newbyteorder(\">\") \n",
    "    \n",
    "data_train, labels_train = data, data_1"
   ]
  },
  {
   "cell_type": "code",
   "execution_count": 3,
   "id": "1afffe8c-3327-45c8-a58d-0009ca49b07c",
   "metadata": {},
   "outputs": [
    {
     "data": {
      "text/plain": [
       "5"
      ]
     },
     "execution_count": 3,
     "metadata": {},
     "output_type": "execute_result"
    },
    {
     "data": {
      "image/png": "[encoded data removed]",
      "text/plain": [
       "<Figure size 432x288 with 1 Axes>"
      ]
     },
     "metadata": {
      "needs_background": "light"
     },
     "output_type": "display_data"
    }
   ],
   "source": [
    "plt.imshow(data_train[0])\n",
    "labels_train[0]"
   ]
  },
  {
   "cell_type": "code",
   "execution_count": 4,
   "id": "d3d4538c-e157-4da5-af2f-a3a4e87c4c6c",
   "metadata": {},
   "outputs": [],
   "source": [
    "from sklearn.model_selection import train_test_split\n",
    "X_train, X_test, y_train, y_test = train_test_split(data_train,labels_train,random_state=5,stratify=labels_train,test_size=0.3)"
   ]
  },
  {
   "cell_type": "code",
   "execution_count": 2,
   "id": "d4446ceb-c60d-4a49-89e5-e993a05d15f4",
   "metadata": {},
   "outputs": [],
   "source": [
    "from tensorflow.keras.preprocessing.image import load_img, img_to_array, array_to_img\n",
    "\n",
    "def change_size(image):\n",
    "    img = array_to_img(image, scale=False) #returns PIL Image\n",
    "    img = img.resize((75, 75)) #resize image\n",
    "    img = img.convert(mode='RGB') #makes 3 channels\n",
    "    arr = img_to_array(img) #convert back to array\n",
    "    return arr.astype(np.float64)"
   ]
  },
  {
   "cell_type": "code",
   "execution_count": 6,
   "id": "27b82bd2-6e67-4818-a603-846a114396ff",
   "metadata": {},
   "outputs": [
    {
     "data": {
      "text/plain": [
       "(42000, 28, 28, 1)"
      ]
     },
     "execution_count": 6,
     "metadata": {},
     "output_type": "execute_result"
    }
   ],
   "source": [
    "train_arr = np.array(X_train).reshape(-1, 28, 28, 1)\n",
    "train_arr.shape"
   ]
  },
  {
   "cell_type": "code",
   "execution_count": 7,
   "id": "b5b0fce7-a3a7-4d00-a74e-b46e7d616a71",
   "metadata": {},
   "outputs": [
    {
     "name": "stderr",
     "output_type": "stream",
     "text": [
      "100%|██████████████████████████████████████████████████████████████████████████| 42000/42000 [00:10<00:00, 3825.42it/s]\n"
     ]
    },
    {
     "data": {
      "text/plain": [
       "(42000, 75, 75, 3)"
      ]
     },
     "execution_count": 7,
     "metadata": {},
     "output_type": "execute_result"
    }
   ],
   "source": [
    "train_arr_75 = [change_size(img) for img in tqdm(train_arr)]\n",
    "del train_arr\n",
    "train_arr_75 = np.array(train_arr_75)\n",
    "train_arr_75.shape"
   ]
  },
  {
   "cell_type": "code",
   "execution_count": null,
   "id": "d962dc64-8c2d-4f01-8f67-be64038b5e15",
   "metadata": {},
   "outputs": [],
   "source": []
  },
  {
   "cell_type": "code",
   "execution_count": 8,
   "id": "81181915-caaa-4d12-bd5e-eddc69820155",
   "metadata": {},
   "outputs": [
    {
     "data": {
      "text/plain": [
       "(18000, 28, 28, 1)"
      ]
     },
     "execution_count": 8,
     "metadata": {},
     "output_type": "execute_result"
    }
   ],
   "source": [
    "test_arr = np.array(X_test).reshape(-1, 28, 28, 1)\n",
    "test_arr.shape"
   ]
  },
  {
   "cell_type": "code",
   "execution_count": 9,
   "id": "51eb7d4e-b6d4-4da6-843e-64f680cb2984",
   "metadata": {},
   "outputs": [
    {
     "name": "stderr",
     "output_type": "stream",
     "text": [
      "100%|██████████████████████████████████████████████████████████████████████████| 18000/18000 [00:04<00:00, 3909.40it/s]\n"
     ]
    },
    {
     "data": {
      "text/plain": [
       "(18000, 75, 75, 3)"
      ]
     },
     "execution_count": 9,
     "metadata": {},
     "output_type": "execute_result"
    }
   ],
   "source": [
    "test_arr_75 = [change_size(img) for img in tqdm(test_arr)]\n",
    "del test_arr\n",
    "test_arr_75 = np.array(test_arr_75)\n",
    "test_arr_75.shape"
   ]
  },
  {
   "cell_type": "code",
   "execution_count": null,
   "id": "80a1c3b9-a65d-41d1-9dfa-23ad11780e82",
   "metadata": {},
   "outputs": [],
   "source": []
  },
  {
   "cell_type": "code",
   "execution_count": 10,
   "id": "5c853c18-d98f-44ed-8277-bd1b7b7f8318",
   "metadata": {},
   "outputs": [],
   "source": [
    "y_train = tf.keras.utils.to_categorical(y_train)\n",
    "y_testc = tf.keras.utils.to_categorical(y_test)\n",
    "image_gen = ImageDataGenerator(rescale=1./255, #easier for network to interpret numbers in range [0,1]\n",
    "                              zoom_range=0.1,\n",
    "                              width_shift_range=0.2,\n",
    "                              height_shift_range=0.2,\n",
    "                              validation_split=0.2) # 80/20 train/val split\n",
    "\n",
    "train_generator = image_gen.flow(train_arr_75, \n",
    "                                 y_train,\n",
    "                                batch_size=32,\n",
    "                                shuffle=True,\n",
    "                                subset='training',\n",
    "                                seed=42)\n",
    "valid_generator = image_gen.flow(train_arr_75,\n",
    "                                 y_train,\n",
    "                                batch_size=16,\n",
    "                                shuffle=True,\n",
    "                                subset='validation')\n",
    "test_generator = image_gen.flow(test_arr_75, \n",
    "                                 y_testc,\n",
    "                                batch_size=32,\n",
    "                                seed=42,shuffle=False)\n",
    "del train_arr_75 #saves RAM"
   ]
  },
  {
   "cell_type": "code",
   "execution_count": 11,
   "id": "837ccddf-f4c9-49f1-8297-f5d2b4f91fa1",
   "metadata": {},
   "outputs": [
    {
     "data": {
      "text/plain": [
       "<AxesSubplot:>"
      ]
     },
     "execution_count": 11,
     "metadata": {},
     "output_type": "execute_result"
    },
    {
     "data": {
      "image/png": "[encoded data removed]",
      "text/plain": [
       "<Figure size 432x288 with 1 Axes>"
      ]
     },
     "metadata": {
      "needs_background": "light"
     },
     "output_type": "display_data"
    }
   ],
   "source": [
    "sns.barplot(x = ['train', 'valid'], y= [train_generator.n, valid_generator.n])"
   ]
  },
  {
   "cell_type": "code",
   "execution_count": 12,
   "id": "586c90e1-55ed-494e-a14c-d2207f97ac41",
   "metadata": {},
   "outputs": [],
   "source": [
    "base_model = tf.keras.applications.resnet50.ResNet50(input_shape = (75, 75, 3), \n",
    "                                include_top = False, \n",
    "                                weights = 'imagenet')\n",
    "# base_model.trainable = False\n",
    "model = Sequential()\n",
    "\n",
    "model.add(base_model)\n",
    "\n",
    "model.add(L.Flatten())\n",
    "model.add(L.Dense(256, activation='relu'))\n",
    "model.add(L.Dense(128, activation='relu'))\n",
    "model.add(L.Dense(10, activation='softmax'))\n",
    "\n",
    "model.compile(optimizer=keras.optimizers.Adam(learning_rate=0.0001), loss='categorical_crossentropy', metrics=['accuracy'])\n",
    "#Do not use default learning rate since it is too high!"
   ]
  },
  {
   "cell_type": "code",
   "execution_count": 13,
   "id": "f7311a71-f193-4c62-8f19-badc09e3abf1",
   "metadata": {},
   "outputs": [],
   "source": [
    "for layer in model.layers[0].layers:\n",
    "    if layer.name == 'conv5_block1_0_conv':\n",
    "        break\n",
    "    layer.trainable=False"
   ]
  },
  {
   "cell_type": "code",
   "execution_count": 14,
   "id": "da27215b-8b80-484b-8ab4-95ffcad2f1e6",
   "metadata": {},
   "outputs": [
    {
     "name": "stdout",
     "output_type": "stream",
     "text": [
      "Model: \"sequential\"\n",
      "_________________________________________________________________\n",
      "Layer (type)                 Output Shape              Param #   \n",
      "=================================================================\n",
      "resnet50 (Functional)        (None, 3, 3, 2048)        23587712  \n",
      "_________________________________________________________________\n",
      "flatten (Flatten)            (None, 18432)             0         \n",
      "_________________________________________________________________\n",
      "dense (Dense)                (None, 256)               4718848   \n",
      "_________________________________________________________________\n",
      "dense_1 (Dense)              (None, 128)               32896     \n",
      "_________________________________________________________________\n",
      "dense_2 (Dense)              (None, 10)                1290      \n",
      "=================================================================\n",
      "Total params: 28,340,746\n",
      "Trainable params: 16,842,378\n",
      "Non-trainable params: 11,498,368\n",
      "_________________________________________________________________\n"
     ]
    }
   ],
   "source": [
    "model.summary()"
   ]
  },
  {
   "cell_type": "code",
   "execution_count": 15,
   "id": "42f5ea7f-caa9-4e9f-b9e9-046c60a0d592",
   "metadata": {},
   "outputs": [
    {
     "name": "stdout",
     "output_type": "stream",
     "text": [
      "Epoch 1/5\n",
      "1050/1050 [==============================] - 139s 120ms/step - loss: 0.1840 - accuracy: 0.9461 - val_loss: 0.2477 - val_accuracy: 0.9173\n",
      "Epoch 2/5\n",
      "1050/1050 [==============================] - 126s 119ms/step - loss: 0.0699 - accuracy: 0.9811 - val_loss: 0.0658 - val_accuracy: 0.9830\n",
      "Epoch 3/5\n",
      "1050/1050 [==============================] - 126s 120ms/step - loss: 0.0560 - accuracy: 0.9845 - val_loss: 0.0804 - val_accuracy: 0.9800\n",
      "Epoch 4/5\n",
      "1050/1050 [==============================] - 126s 120ms/step - loss: 0.0536 - accuracy: 0.9854 - val_loss: 0.0428 - val_accuracy: 0.9892\n",
      "Epoch 5/5\n",
      "1050/1050 [==============================] - 126s 120ms/step - loss: 0.0438 - accuracy: 0.9878 - val_loss: 0.0885 - val_accuracy: 0.9775\n"
     ]
    }
   ],
   "source": [
    "epochs = 5\n",
    "history = model.fit(train_generator, validation_data=valid_generator, epochs=epochs, \n",
    "          steps_per_epoch=train_generator.n//train_generator.batch_size,\n",
    "         validation_steps=valid_generator.n//valid_generator.batch_size)"
   ]
  },
  {
   "cell_type": "code",
   "execution_count": 16,
   "id": "601e621b-5e9b-41a3-9eae-97ed4a512669",
   "metadata": {},
   "outputs": [],
   "source": [
    "pred = model.predict(test_generator)\n",
    "predictions = np.argmax(pred,axis = 1)"
   ]
  },
  {
   "cell_type": "code",
   "execution_count": 17,
   "id": "9ce14110-076c-4515-9d2a-9659fa733b80",
   "metadata": {},
   "outputs": [
    {
     "data": {
      "text/plain": [
       "<tf.Tensor: shape=(10, 10), dtype=int32, numpy=\n",
       "array([[1763,    0,    2,    1,    0,    0,    5,    2,    2,    2],\n",
       "       [   0, 2020,    0,    0,    0,    0,    0,    3,    0,    0],\n",
       "       [   0,   10, 1726,   17,    0,    0,    0,   33,    1,    0],\n",
       "       [   0,    0,    0, 1831,    0,    2,    0,    6,    0,    0],\n",
       "       [   0,   26,    0,    0, 1655,    0,    4,   52,    0,   16],\n",
       "       [   0,    0,    0,   14,    0, 1601,    5,    3,    1,    2],\n",
       "       [   5,    2,    3,    0,    0,    3, 1762,    0,    0,    0],\n",
       "       [   0,    9,    1,    1,    0,    0,    0, 1869,    0,    0],\n",
       "       [   0,    5,    1,   37,    4,    7,    8,    6, 1674,   13],\n",
       "       [   1,    7,    0,   21,    4,    2,    0,   47,    2, 1701]])>"
      ]
     },
     "execution_count": 17,
     "metadata": {},
     "output_type": "execute_result"
    }
   ],
   "source": [
    "tf.math.confusion_matrix(y_test,predictions)"
   ]
  },
  {
   "cell_type": "code",
   "execution_count": 18,
   "id": "692e1c32-9fa8-4670-9b72-63e2317b475c",
   "metadata": {},
   "outputs": [
    {
     "name": "stdout",
     "output_type": "stream",
     "text": [
      "              precision    recall  f1-score   support\n",
      "\n",
      "           0       1.00      0.99      0.99      1777\n",
      "           1       0.97      1.00      0.98      2023\n",
      "           2       1.00      0.97      0.98      1787\n",
      "           3       0.95      1.00      0.97      1839\n",
      "           4       1.00      0.94      0.97      1753\n",
      "           5       0.99      0.98      0.99      1626\n",
      "           6       0.99      0.99      0.99      1775\n",
      "           7       0.92      0.99      0.96      1880\n",
      "           8       1.00      0.95      0.97      1755\n",
      "           9       0.98      0.95      0.97      1785\n",
      "\n",
      "    accuracy                           0.98     18000\n",
      "   macro avg       0.98      0.98      0.98     18000\n",
      "weighted avg       0.98      0.98      0.98     18000\n",
      "\n"
     ]
    }
   ],
   "source": [
    "from sklearn.metrics import classification_report\n",
    "print(classification_report(y_test,predictions))"
   ]
  },
  {
   "cell_type": "code",
   "execution_count": 19,
   "id": "278ff394-9c81-428b-a995-5324a6e1e66f",
   "metadata": {},
   "outputs": [
    {
     "data": {
      "image/png": "[encoded data removed]",
      "text/plain": [
       "<Figure size 576x576 with 2 Axes>"
      ]
     },
     "metadata": {
      "needs_background": "light"
     },
     "output_type": "display_data"
    }
   ],
   "source": [
    "acc = history.history[\"accuracy\"]\n",
    "val_acc = history.history[\"val_accuracy\"]\n",
    "\n",
    "loss = history.history[\"loss\"]\n",
    "val_loss = history.history[\"val_loss\"]\n",
    "epochs = epochs\n",
    "epochs_range = range(epochs)\n",
    "\n",
    "plt.figure(figsize=(8, 8))\n",
    "plt.subplot(1, 2, 1)\n",
    "plt.plot(epochs_range, acc, label=\"Training Accuracy\")\n",
    "plt.plot(epochs_range, val_acc, label=\"Validation Accuracy\")\n",
    "plt.legend(loc=\"lower right\")\n",
    "plt.title(\"Training and Validation Accuracy\")\n",
    "\n",
    "plt.subplot(1, 2, 2)\n",
    "plt.plot(epochs_range, loss, label=\"Training Loss\")\n",
    "plt.plot(epochs_range, val_loss, label=\"Validation Loss\")\n",
    "plt.legend(loc=\"upper right\")\n",
    "plt.title(\"Training and Validation Loss\")\n",
    "plt.show()"
   ]
  },
  {
   "cell_type": "markdown",
   "id": "20aea44a-7a4a-460f-b4b1-78ae66ba4e34",
   "metadata": {},
   "source": [
    "## Building a CNN from Scratch"
   ]
  },
  {
   "cell_type": "code",
   "execution_count": 20,
   "id": "accdbc53-4b30-477d-8587-5617cc0c8112",
   "metadata": {},
   "outputs": [],
   "source": [
    "# num_classes = 10\n",
    "\n",
    "model2 = Sequential(\n",
    "    [\n",
    "        layers.InputLayer((75,75,3)),\n",
    "\n",
    "        layers.Conv2D(16, 3, padding=\"same\", activation=\"relu\"),\n",
    "        layers.MaxPooling2D(),\n",
    "        layers.Conv2D(32, 3, padding=\"same\", activation=\"relu\"),\n",
    "        layers.MaxPooling2D(),\n",
    "        layers.Dropout(0.2),\n",
    "        layers.Conv2D(64, 3, padding=\"same\", activation=\"relu\"),\n",
    "        layers.MaxPooling2D(),\n",
    "        \n",
    "        \n",
    "        layers.Flatten(),\n",
    "        layers.Dense(512, activation=\"relu\"),\n",
    "        layers.Dense(128, activation=\"relu\"),\n",
    "        layers.Dense(128, activation=\"relu\"),\n",
    "        layers.Dense(10,activation='softmax'),\n",
    "    ]\n",
    ")\n",
    "\n",
    "\n",
    "model2.compile(optimizer=keras.optimizers.Adam(learning_rate=0.0001), loss='categorical_crossentropy', metrics=['accuracy'])\n"
   ]
  },
  {
   "cell_type": "code",
   "execution_count": 21,
   "id": "b33428d0-c300-4925-ac5a-98ada3475332",
   "metadata": {},
   "outputs": [
    {
     "name": "stdout",
     "output_type": "stream",
     "text": [
      "Model: \"sequential_1\"\n",
      "_________________________________________________________________\n",
      "Layer (type)                 Output Shape              Param #   \n",
      "=================================================================\n",
      "conv2d (Conv2D)              (None, 75, 75, 16)        448       \n",
      "_________________________________________________________________\n",
      "max_pooling2d (MaxPooling2D) (None, 37, 37, 16)        0         \n",
      "_________________________________________________________________\n",
      "conv2d_1 (Conv2D)            (None, 37, 37, 32)        4640      \n",
      "_________________________________________________________________\n",
      "max_pooling2d_1 (MaxPooling2 (None, 18, 18, 32)        0         \n",
      "_________________________________________________________________\n",
      "dropout (Dropout)            (None, 18, 18, 32)        0         \n",
      "_________________________________________________________________\n",
      "conv2d_2 (Conv2D)            (None, 18, 18, 64)        18496     \n",
      "_________________________________________________________________\n",
      "max_pooling2d_2 (MaxPooling2 (None, 9, 9, 64)          0         \n",
      "_________________________________________________________________\n",
      "flatten_1 (Flatten)          (None, 5184)              0         \n",
      "_________________________________________________________________\n",
      "dense_3 (Dense)              (None, 512)               2654720   \n",
      "_________________________________________________________________\n",
      "dense_4 (Dense)              (None, 128)               65664     \n",
      "_________________________________________________________________\n",
      "dense_5 (Dense)              (None, 128)               16512     \n",
      "_________________________________________________________________\n",
      "dense_6 (Dense)              (None, 10)                1290      \n",
      "=================================================================\n",
      "Total params: 2,761,770\n",
      "Trainable params: 2,761,770\n",
      "Non-trainable params: 0\n",
      "_________________________________________________________________\n"
     ]
    }
   ],
   "source": [
    "model2.summary()"
   ]
  },
  {
   "cell_type": "code",
   "execution_count": 22,
   "id": "d282ee54-3e0c-4bb2-b81a-87efa92c88f1",
   "metadata": {},
   "outputs": [
    {
     "name": "stdout",
     "output_type": "stream",
     "text": [
      "Epoch 1/10\n",
      "1050/1050 [==============================] - 51s 47ms/step - loss: 0.7384 - accuracy: 0.7547 - val_loss: 0.3290 - val_accuracy: 0.8976\n",
      "Epoch 2/10\n",
      "1050/1050 [==============================] - 49s 47ms/step - loss: 0.2546 - accuracy: 0.9204 - val_loss: 0.2190 - val_accuracy: 0.9352\n",
      "Epoch 3/10\n",
      "1050/1050 [==============================] - 50s 48ms/step - loss: 0.1895 - accuracy: 0.9411 - val_loss: 0.1824 - val_accuracy: 0.9445\n",
      "Epoch 4/10\n",
      "1050/1050 [==============================] - 50s 47ms/step - loss: 0.1559 - accuracy: 0.9513 - val_loss: 0.1453 - val_accuracy: 0.9543\n",
      "Epoch 5/10\n",
      "1050/1050 [==============================] - 50s 47ms/step - loss: 0.1277 - accuracy: 0.9601 - val_loss: 0.1311 - val_accuracy: 0.9585\n",
      "Epoch 6/10\n",
      "1050/1050 [==============================] - 49s 47ms/step - loss: 0.1211 - accuracy: 0.9623 - val_loss: 0.1157 - val_accuracy: 0.9651\n",
      "Epoch 7/10\n",
      "1050/1050 [==============================] - 50s 47ms/step - loss: 0.1050 - accuracy: 0.9669 - val_loss: 0.1045 - val_accuracy: 0.9670\n",
      "Epoch 8/10\n",
      "1050/1050 [==============================] - 49s 47ms/step - loss: 0.0936 - accuracy: 0.9701 - val_loss: 0.0829 - val_accuracy: 0.9743\n",
      "Epoch 9/10\n",
      "1050/1050 [==============================] - 49s 47ms/step - loss: 0.0882 - accuracy: 0.9718 - val_loss: 0.0812 - val_accuracy: 0.9761\n",
      "Epoch 10/10\n",
      "1050/1050 [==============================] - 49s 47ms/step - loss: 0.0798 - accuracy: 0.9749 - val_loss: 0.0860 - val_accuracy: 0.9750\n"
     ]
    }
   ],
   "source": [
    "epochs2 = 10\n",
    "history = model2.fit(train_generator, validation_data=valid_generator, epochs=epochs2, \n",
    "          steps_per_epoch=train_generator.n//train_generator.batch_size,\n",
    "         validation_steps=valid_generator.n//valid_generator.batch_size)"
   ]
  },
  {
   "cell_type": "code",
   "execution_count": 23,
   "id": "0a05064f-d703-4850-b675-e2c970c4bbc8",
   "metadata": {},
   "outputs": [],
   "source": [
    "pred = model2.predict(test_generator)\n",
    "predictions = np.argmax(pred,axis = 1)"
   ]
  },
  {
   "cell_type": "code",
   "execution_count": 24,
   "id": "3c6c0d18-3312-4884-8c16-7676951d4646",
   "metadata": {},
   "outputs": [
    {
     "data": {
      "text/plain": [
       "<tf.Tensor: shape=(10, 10), dtype=int32, numpy=\n",
       "array([[1741,    1,    2,    0,    1,    4,   15,    3,    6,    4],\n",
       "       [   1, 2003,    0,    2,    9,    1,    1,    5,    1,    0],\n",
       "       [   5,   15, 1698,   15,    9,    3,    1,   23,   15,    3],\n",
       "       [   1,    2,   13, 1792,    0,   16,    0,    4,    7,    4],\n",
       "       [   1,    2,    0,    0, 1727,    1,    4,    2,    1,   15],\n",
       "       [   1,    0,    1,    4,    2, 1596,   11,    0,    7,    4],\n",
       "       [   2,    3,    1,    0,    4,   11, 1752,    0,    2,    0],\n",
       "       [   0,    4,    5,    6,    9,    3,    0, 1842,    1,   10],\n",
       "       [   8,    3,    3,    5,    7,   15,   16,    2, 1672,   24],\n",
       "       [   4,    3,    2,    6,   25,   13,    0,   13,    3, 1716]])>"
      ]
     },
     "execution_count": 24,
     "metadata": {},
     "output_type": "execute_result"
    }
   ],
   "source": [
    "tf.math.confusion_matrix(y_test,predictions)"
   ]
  },
  {
   "cell_type": "code",
   "execution_count": 25,
   "id": "cdc9310f-aa5c-4d4c-9354-0d9e65d43459",
   "metadata": {},
   "outputs": [
    {
     "name": "stdout",
     "output_type": "stream",
     "text": [
      "              precision    recall  f1-score   support\n",
      "\n",
      "           0       0.99      0.98      0.98      1777\n",
      "           1       0.98      0.99      0.99      2023\n",
      "           2       0.98      0.95      0.97      1787\n",
      "           3       0.98      0.97      0.98      1839\n",
      "           4       0.96      0.99      0.97      1753\n",
      "           5       0.96      0.98      0.97      1626\n",
      "           6       0.97      0.99      0.98      1775\n",
      "           7       0.97      0.98      0.98      1880\n",
      "           8       0.97      0.95      0.96      1755\n",
      "           9       0.96      0.96      0.96      1785\n",
      "\n",
      "    accuracy                           0.97     18000\n",
      "   macro avg       0.97      0.97      0.97     18000\n",
      "weighted avg       0.97      0.97      0.97     18000\n",
      "\n"
     ]
    }
   ],
   "source": [
    "from sklearn.metrics import classification_report\n",
    "print(classification_report(y_test,predictions))"
   ]
  },
  {
   "cell_type": "code",
   "execution_count": 26,
   "id": "89e40f46-d248-45ae-a91f-699f7747c976",
   "metadata": {},
   "outputs": [
    {
     "data": {
      "image/png": "[encoded data removed]",
      "text/plain": [
       "<Figure size 576x576 with 2 Axes>"
      ]
     },
     "metadata": {
      "needs_background": "light"
     },
     "output_type": "display_data"
    }
   ],
   "source": [
    "acc = history.history[\"accuracy\"]\n",
    "val_acc = history.history[\"val_accuracy\"]\n",
    "\n",
    "loss = history.history[\"loss\"]\n",
    "val_loss = history.history[\"val_loss\"]\n",
    "epochs = epochs2\n",
    "epochs_range = range(epochs)\n",
    "\n",
    "plt.figure(figsize=(8, 8))\n",
    "plt.subplot(1, 2, 1)\n",
    "plt.plot(epochs_range, acc, label=\"Training Accuracy\")\n",
    "plt.plot(epochs_range, val_acc, label=\"Validation Accuracy\")\n",
    "plt.legend(loc=\"lower right\")\n",
    "plt.title(\"Training and Validation Accuracy\")\n",
    "\n",
    "plt.subplot(1, 2, 2)\n",
    "plt.plot(epochs_range, loss, label=\"Training Loss\")\n",
    "plt.plot(epochs_range, val_loss, label=\"Validation Loss\")\n",
    "plt.legend(loc=\"upper right\")\n",
    "plt.title(\"Training and Validation Loss\")\n",
    "plt.show()"
   ]
  },
  {
   "cell_type": "markdown",
   "id": "f8a72892-e3fe-4b65-9ec8-7e8c04a039b8",
   "metadata": {},
   "source": [
    "From the data we can see that the CNN based Classifiers perform much better compared to the SVM classifier. This is the result of using complex interlinked neuralnets which in theory can approximate any function perfectly(Universal approximation Theorem)."
   ]
  },
  {
   "cell_type": "code",
   "execution_count": 27,
   "id": "01bbeeae-2c47-4aaf-85d4-33620c9f4b7f",
   "metadata": {},
   "outputs": [],
   "source": [
    "model2.save('model2.h5')"
   ]
  },
  {
   "cell_type": "code",
   "execution_count": 28,
   "id": "d9b7d38b-f8c8-4109-9b3e-6690fdc421fb",
   "metadata": {},
   "outputs": [],
   "source": [
    "model2.save_weights('model2_weights.h5')"
   ]
  },
  {
   "cell_type": "markdown",
   "id": "587c0f3d-ab8b-442e-be12-0a0a65db1301",
   "metadata": {},
   "source": [
    "## Q3 Training SVM on CNN Features"
   ]
  },
  {
   "cell_type": "code",
   "execution_count": 2,
   "id": "6bcb1b51-30de-4f80-83c8-efd0855ec559",
   "metadata": {},
   "outputs": [],
   "source": [
    "# path =\"archive (1)/real_and_f#renaming real and fake directories\n",
    "real = \"archive/real_and_fake_face_detection/real_and_fake_face/training_real\"\n",
    "fake = \"archive/real_and_fake_face_detection/real_and_fake_face/training_fake\"\n",
    "#we're creating a list of real and fake images\n",
    "real_path = os.listdir(real)\n",
    "fake_path = os.listdir(fake)\n"
   ]
  },
  {
   "cell_type": "code",
   "execution_count": 3,
   "id": "d7be2238-54e2-4a47-96ac-6bc6d1ab1108",
   "metadata": {},
   "outputs": [
    {
     "name": "stderr",
     "output_type": "stream",
     "text": [
      "100%|█████████████████████████████████████████████████████████████████████████████| 1081/1081 [00:08<00:00, 124.58it/s]\n",
      "100%|███████████████████████████████████████████████████████████████████████████████| 961/961 [00:07<00:00, 127.58it/s]\n"
     ]
    }
   ],
   "source": [
    "img_size = int(75)\n",
    "def create_data():\n",
    "    training_data = []\n",
    "    y=[]\n",
    "    for img in tqdm(real_path):\n",
    "        path = os.path.join(real, img)\n",
    "#         label = [1] \n",
    "        try:\n",
    "            image = cv2.resize( cv2.imread(path), (img_size,img_size) )\n",
    "            training_data.append(np.array(image))\n",
    "            y.append(1)\n",
    "        except:\n",
    "            continue\n",
    "        \n",
    "    for img in tqdm(fake_path):\n",
    "        path = os.path.join(fake, img)\n",
    "#         label = [0] \n",
    "        try:\n",
    "            image = cv2.resize(cv2.imread(path), (img_size,img_size))\n",
    "            training_data.append(np.array(image))  \n",
    "            y.append(0)\n",
    "        except: continue\n",
    "        \n",
    "    return(training_data,y)\n",
    "\n",
    "\n",
    "    \n",
    "\n",
    "data,labels = create_data()\n"
   ]
  },
  {
   "cell_type": "code",
   "execution_count": 4,
   "id": "67f8c6c4-2700-4054-bc73-3108553c65ac",
   "metadata": {},
   "outputs": [],
   "source": [
    "data = np.array(data)\n",
    "labels = np.array(labels)"
   ]
  },
  {
   "cell_type": "code",
   "execution_count": 5,
   "id": "4256b8b1-f6ae-4067-86ef-3464394cc18e",
   "metadata": {},
   "outputs": [
    {
     "data": {
      "text/plain": [
       "2041"
      ]
     },
     "execution_count": 5,
     "metadata": {},
     "output_type": "execute_result"
    }
   ],
   "source": [
    "len(data)"
   ]
  },
  {
   "cell_type": "code",
   "execution_count": 6,
   "id": "e393e6ad-d467-488f-9803-f821f3747bd9",
   "metadata": {},
   "outputs": [],
   "source": [
    "from sklearn.model_selection import train_test_split\n",
    "X_train, X_test, y_train, y_test = train_test_split(data,labels,random_state=6,test_size=0.3,stratify=labels)"
   ]
  },
  {
   "cell_type": "code",
   "execution_count": 7,
   "id": "afc536b9-263c-4f5a-b646-b600d7b7f111",
   "metadata": {},
   "outputs": [],
   "source": [
    "y_trainn = tf.keras.utils.to_categorical(y_train)\n",
    "y_testc = tf.keras.utils.to_categorical(y_test)\n",
    "image_gen = ImageDataGenerator(rescale=1./255, #easier for network to interpret numbers in range [0,1]\n",
    "                              zoom_range=0.1,\n",
    "                              width_shift_range=0.2,\n",
    "                              height_shift_range=0.2,\n",
    "                              validation_split=0.2) # 80/20 train/val split\n",
    "\n"
   ]
  },
  {
   "cell_type": "code",
   "execution_count": 8,
   "id": "a79f3640-4fce-46ab-8e05-a526c406d223",
   "metadata": {},
   "outputs": [
    {
     "data": {
      "text/plain": [
       "((1428, 75, 75, 3), (1428, 2))"
      ]
     },
     "execution_count": 8,
     "metadata": {},
     "output_type": "execute_result"
    }
   ],
   "source": [
    "X_train.shape,y_trainn.shape"
   ]
  },
  {
   "cell_type": "code",
   "execution_count": 9,
   "id": "bf79b2a0-40a4-464a-9f9e-182e0f945994",
   "metadata": {},
   "outputs": [],
   "source": [
    "# num_classes = 10\n",
    "\n",
    "model3 = Sequential(\n",
    "    [\n",
    "        layers.InputLayer((75,75,3)),\n",
    "\n",
    "        layers.Conv2D(16, 3, padding=\"same\", activation=\"relu\"),\n",
    "        layers.MaxPooling2D(),\n",
    "        layers.Conv2D(32, 3, padding=\"same\", activation=\"relu\"),\n",
    "        layers.MaxPooling2D(),\n",
    "        layers.Conv2D(64, 3, padding=\"same\", activation=\"relu\"),\n",
    "        layers.MaxPooling2D(),\n",
    "        layers.Dropout(0.2),\n",
    "        layers.Conv2D(128, 3, padding=\"same\", activation=\"relu\"),\n",
    "        layers.MaxPooling2D(),\n",
    "        \n",
    "        \n",
    "        layers.Flatten(),\n",
    "        layers.Dense(128, activation=\"relu\"),\n",
    "        layers.Dropout(0.2),\n",
    "        layers.Dense(256, activation=\"relu\"),\n",
    "        layers.Dense(512, activation=\"relu\"),\n",
    "        layers.Dense(1024, activation=\"relu\"),\n",
    "        layers.Dense(2,activation='softmax'),\n",
    "    ]\n",
    ")\n",
    "\n",
    "\n",
    "model3.compile(optimizer=keras.optimizers.Adam(learning_rate=0.0001), loss=tf.keras.losses.binary_crossentropy, metrics=['accuracy'])\n"
   ]
  },
  {
   "cell_type": "code",
   "execution_count": 10,
   "id": "f2a94db9-ef42-4b39-9066-e9224423a6dd",
   "metadata": {},
   "outputs": [
    {
     "name": "stdout",
     "output_type": "stream",
     "text": [
      "Model: \"sequential\"\n",
      "_________________________________________________________________\n",
      "Layer (type)                 Output Shape              Param #   \n",
      "=================================================================\n",
      "conv2d (Conv2D)              (None, 75, 75, 16)        448       \n",
      "_________________________________________________________________\n",
      "max_pooling2d (MaxPooling2D) (None, 37, 37, 16)        0         \n",
      "_________________________________________________________________\n",
      "conv2d_1 (Conv2D)            (None, 37, 37, 32)        4640      \n",
      "_________________________________________________________________\n",
      "max_pooling2d_1 (MaxPooling2 (None, 18, 18, 32)        0         \n",
      "_________________________________________________________________\n",
      "conv2d_2 (Conv2D)            (None, 18, 18, 64)        18496     \n",
      "_________________________________________________________________\n",
      "max_pooling2d_2 (MaxPooling2 (None, 9, 9, 64)          0         \n",
      "_________________________________________________________________\n",
      "dropout (Dropout)            (None, 9, 9, 64)          0         \n",
      "_________________________________________________________________\n",
      "conv2d_3 (Conv2D)            (None, 9, 9, 128)         73856     \n",
      "_________________________________________________________________\n",
      "max_pooling2d_3 (MaxPooling2 (None, 4, 4, 128)         0         \n",
      "_________________________________________________________________\n",
      "flatten (Flatten)            (None, 2048)              0         \n",
      "_________________________________________________________________\n",
      "dense (Dense)                (None, 128)               262272    \n",
      "_________________________________________________________________\n",
      "dropout_1 (Dropout)          (None, 128)               0         \n",
      "_________________________________________________________________\n",
      "dense_1 (Dense)              (None, 256)               33024     \n",
      "_________________________________________________________________\n",
      "dense_2 (Dense)              (None, 512)               131584    \n",
      "_________________________________________________________________\n",
      "dense_3 (Dense)              (None, 1024)              525312    \n",
      "_________________________________________________________________\n",
      "dense_4 (Dense)              (None, 2)                 2050      \n",
      "=================================================================\n",
      "Total params: 1,051,682\n",
      "Trainable params: 1,051,682\n",
      "Non-trainable params: 0\n",
      "_________________________________________________________________\n"
     ]
    }
   ],
   "source": [
    "model3.summary()"
   ]
  },
  {
   "cell_type": "code",
   "execution_count": 11,
   "id": "3a4c9281-2e75-4090-8052-a644783853ef",
   "metadata": {
    "scrolled": true,
    "tags": []
   },
   "outputs": [
    {
     "name": "stdout",
     "output_type": "stream",
     "text": [
      "Epoch 1/100\n",
      "41/41 [==============================] - 4s 23ms/step - loss: 0.9631 - accuracy: 0.5136 - val_loss: 0.7491 - val_accuracy: 0.4685\n",
      "Epoch 2/100\n",
      "41/41 [==============================] - 0s 9ms/step - loss: 0.7341 - accuracy: 0.5315 - val_loss: 0.7215 - val_accuracy: 0.4476\n",
      "Epoch 3/100\n",
      "41/41 [==============================] - 0s 9ms/step - loss: 0.7110 - accuracy: 0.5268 - val_loss: 0.6981 - val_accuracy: 0.5245\n",
      "Epoch 4/100\n",
      "41/41 [==============================] - 0s 9ms/step - loss: 0.7104 - accuracy: 0.5268 - val_loss: 0.7078 - val_accuracy: 0.5245\n",
      "Epoch 5/100\n",
      "41/41 [==============================] - 0s 9ms/step - loss: 0.7047 - accuracy: 0.5198 - val_loss: 0.7227 - val_accuracy: 0.4545\n",
      "Epoch 6/100\n",
      "41/41 [==============================] - 0s 9ms/step - loss: 0.7006 - accuracy: 0.5113 - val_loss: 0.6914 - val_accuracy: 0.5315\n",
      "Epoch 7/100\n",
      "41/41 [==============================] - 0s 9ms/step - loss: 0.6889 - accuracy: 0.5549 - val_loss: 0.7050 - val_accuracy: 0.4545\n",
      "Epoch 8/100\n",
      "41/41 [==============================] - 0s 9ms/step - loss: 0.6910 - accuracy: 0.5237 - val_loss: 0.7044 - val_accuracy: 0.5245\n",
      "Epoch 9/100\n",
      "41/41 [==============================] - 0s 9ms/step - loss: 0.6920 - accuracy: 0.5121 - val_loss: 0.6984 - val_accuracy: 0.4895\n",
      "Epoch 10/100\n",
      "41/41 [==============================] - 0s 9ms/step - loss: 0.6886 - accuracy: 0.5525 - val_loss: 0.7019 - val_accuracy: 0.5105\n",
      "Epoch 11/100\n",
      "41/41 [==============================] - 0s 9ms/step - loss: 0.6866 - accuracy: 0.5541 - val_loss: 0.6986 - val_accuracy: 0.4825\n",
      "Epoch 12/100\n",
      "41/41 [==============================] - 0s 9ms/step - loss: 0.6778 - accuracy: 0.5813 - val_loss: 0.6892 - val_accuracy: 0.5455\n",
      "Epoch 13/100\n",
      "41/41 [==============================] - 0s 9ms/step - loss: 0.6866 - accuracy: 0.5564 - val_loss: 0.6891 - val_accuracy: 0.5385\n",
      "Epoch 14/100\n",
      "41/41 [==============================] - 0s 9ms/step - loss: 0.6760 - accuracy: 0.5798 - val_loss: 0.6803 - val_accuracy: 0.5524\n",
      "Epoch 15/100\n",
      "41/41 [==============================] - 0s 9ms/step - loss: 0.6662 - accuracy: 0.5899 - val_loss: 0.6899 - val_accuracy: 0.5594\n",
      "Epoch 16/100\n",
      "41/41 [==============================] - 0s 9ms/step - loss: 0.6822 - accuracy: 0.5767 - val_loss: 0.6908 - val_accuracy: 0.5594\n",
      "Epoch 17/100\n",
      "41/41 [==============================] - 0s 9ms/step - loss: 0.6915 - accuracy: 0.5424 - val_loss: 0.6898 - val_accuracy: 0.5105\n",
      "Epoch 18/100\n",
      "41/41 [==============================] - 0s 9ms/step - loss: 0.6737 - accuracy: 0.5673 - val_loss: 0.6831 - val_accuracy: 0.5245\n",
      "Epoch 19/100\n",
      "41/41 [==============================] - 0s 9ms/step - loss: 0.6611 - accuracy: 0.6031 - val_loss: 0.6715 - val_accuracy: 0.5804\n",
      "Epoch 20/100\n",
      "41/41 [==============================] - 0s 9ms/step - loss: 0.6628 - accuracy: 0.5813 - val_loss: 0.6931 - val_accuracy: 0.5594\n",
      "Epoch 21/100\n",
      "41/41 [==============================] - 0s 9ms/step - loss: 0.6618 - accuracy: 0.6031 - val_loss: 0.6789 - val_accuracy: 0.5524\n",
      "Epoch 22/100\n",
      "41/41 [==============================] - 0s 9ms/step - loss: 0.6333 - accuracy: 0.6304 - val_loss: 0.6804 - val_accuracy: 0.6084\n",
      "Epoch 23/100\n",
      "41/41 [==============================] - 0s 9ms/step - loss: 0.6396 - accuracy: 0.6272 - val_loss: 0.6799 - val_accuracy: 0.5734\n",
      "Epoch 24/100\n",
      "41/41 [==============================] - 0s 9ms/step - loss: 0.6395 - accuracy: 0.6226 - val_loss: 0.6655 - val_accuracy: 0.5874\n",
      "Epoch 25/100\n",
      "41/41 [==============================] - 0s 9ms/step - loss: 0.6336 - accuracy: 0.6397 - val_loss: 0.6721 - val_accuracy: 0.6154\n",
      "Epoch 26/100\n",
      "41/41 [==============================] - 0s 9ms/step - loss: 0.6104 - accuracy: 0.6700 - val_loss: 0.6671 - val_accuracy: 0.6154\n",
      "Epoch 27/100\n",
      "41/41 [==============================] - 0s 9ms/step - loss: 0.6303 - accuracy: 0.6327 - val_loss: 0.6548 - val_accuracy: 0.6434\n",
      "Epoch 28/100\n",
      "41/41 [==============================] - 0s 9ms/step - loss: 0.6133 - accuracy: 0.6545 - val_loss: 0.6523 - val_accuracy: 0.6364\n",
      "Epoch 29/100\n",
      "41/41 [==============================] - 0s 9ms/step - loss: 0.5781 - accuracy: 0.6934 - val_loss: 0.6756 - val_accuracy: 0.6294\n",
      "Epoch 30/100\n",
      "41/41 [==============================] - 0s 9ms/step - loss: 0.5794 - accuracy: 0.6669 - val_loss: 0.6633 - val_accuracy: 0.6154\n",
      "Epoch 31/100\n",
      "41/41 [==============================] - 0s 9ms/step - loss: 0.5544 - accuracy: 0.7019 - val_loss: 0.6804 - val_accuracy: 0.6643\n",
      "Epoch 32/100\n",
      "41/41 [==============================] - 0s 9ms/step - loss: 0.5623 - accuracy: 0.7027 - val_loss: 0.6661 - val_accuracy: 0.6154\n",
      "Epoch 33/100\n",
      "41/41 [==============================] - 0s 9ms/step - loss: 0.5244 - accuracy: 0.7284 - val_loss: 0.6938 - val_accuracy: 0.6294\n",
      "Epoch 34/100\n",
      "41/41 [==============================] - 0s 9ms/step - loss: 0.5338 - accuracy: 0.7136 - val_loss: 0.7022 - val_accuracy: 0.6014\n",
      "Epoch 35/100\n",
      "41/41 [==============================] - 0s 9ms/step - loss: 0.5099 - accuracy: 0.7416 - val_loss: 0.7158 - val_accuracy: 0.6224\n",
      "Epoch 36/100\n",
      "41/41 [==============================] - 0s 9ms/step - loss: 0.5233 - accuracy: 0.7268 - val_loss: 0.7013 - val_accuracy: 0.6084\n",
      "Epoch 37/100\n",
      "41/41 [==============================] - 0s 9ms/step - loss: 0.4933 - accuracy: 0.7556 - val_loss: 0.7095 - val_accuracy: 0.6014\n",
      "Epoch 38/100\n",
      "41/41 [==============================] - 0s 9ms/step - loss: 0.4514 - accuracy: 0.7813 - val_loss: 0.7674 - val_accuracy: 0.6224\n",
      "Epoch 39/100\n",
      "41/41 [==============================] - 0s 9ms/step - loss: 0.4417 - accuracy: 0.7798 - val_loss: 0.8628 - val_accuracy: 0.5385\n",
      "Epoch 40/100\n",
      "41/41 [==============================] - 0s 9ms/step - loss: 0.4412 - accuracy: 0.7844 - val_loss: 0.7304 - val_accuracy: 0.6573\n",
      "Epoch 41/100\n",
      "41/41 [==============================] - 0s 9ms/step - loss: 0.4169 - accuracy: 0.8093 - val_loss: 0.7422 - val_accuracy: 0.6154\n",
      "Epoch 42/100\n",
      "41/41 [==============================] - 0s 9ms/step - loss: 0.3978 - accuracy: 0.8039 - val_loss: 0.7913 - val_accuracy: 0.5594\n",
      "Epoch 43/100\n",
      "41/41 [==============================] - 0s 10ms/step - loss: 0.3781 - accuracy: 0.8202 - val_loss: 0.8408 - val_accuracy: 0.5804\n",
      "Epoch 44/100\n",
      "41/41 [==============================] - 0s 9ms/step - loss: 0.3872 - accuracy: 0.8031 - val_loss: 0.9138 - val_accuracy: 0.5874\n",
      "Epoch 45/100\n",
      "41/41 [==============================] - 0s 10ms/step - loss: 0.3507 - accuracy: 0.8358 - val_loss: 0.8799 - val_accuracy: 0.5734\n",
      "Epoch 46/100\n",
      "41/41 [==============================] - 0s 9ms/step - loss: 0.3511 - accuracy: 0.8405 - val_loss: 0.8267 - val_accuracy: 0.6224\n",
      "Epoch 47/100\n",
      "41/41 [==============================] - 0s 9ms/step - loss: 0.3208 - accuracy: 0.8482 - val_loss: 0.9313 - val_accuracy: 0.6294\n",
      "Epoch 48/100\n",
      "41/41 [==============================] - 0s 9ms/step - loss: 0.3169 - accuracy: 0.8490 - val_loss: 0.8948 - val_accuracy: 0.6154\n",
      "Epoch 49/100\n",
      "41/41 [==============================] - 0s 9ms/step - loss: 0.3082 - accuracy: 0.8584 - val_loss: 0.9506 - val_accuracy: 0.6014\n",
      "Epoch 50/100\n",
      "41/41 [==============================] - 0s 9ms/step - loss: 0.2880 - accuracy: 0.8794 - val_loss: 0.9768 - val_accuracy: 0.5944\n",
      "Epoch 51/100\n",
      "41/41 [==============================] - 0s 10ms/step - loss: 0.2516 - accuracy: 0.8926 - val_loss: 1.0769 - val_accuracy: 0.6154\n",
      "Epoch 52/100\n",
      "41/41 [==============================] - 0s 9ms/step - loss: 0.2510 - accuracy: 0.8942 - val_loss: 0.9792 - val_accuracy: 0.6573\n",
      "Epoch 53/100\n",
      "41/41 [==============================] - 0s 9ms/step - loss: 0.2429 - accuracy: 0.8918 - val_loss: 0.9493 - val_accuracy: 0.5874\n",
      "Epoch 54/100\n",
      "41/41 [==============================] - 0s 9ms/step - loss: 0.2370 - accuracy: 0.8973 - val_loss: 0.9615 - val_accuracy: 0.6154\n",
      "Epoch 55/100\n",
      "41/41 [==============================] - 0s 9ms/step - loss: 0.2579 - accuracy: 0.8856 - val_loss: 1.0012 - val_accuracy: 0.6364\n",
      "Epoch 56/100\n",
      "41/41 [==============================] - 0s 9ms/step - loss: 0.2034 - accuracy: 0.9222 - val_loss: 1.0855 - val_accuracy: 0.5944\n",
      "Epoch 57/100\n",
      "41/41 [==============================] - 0s 9ms/step - loss: 0.2133 - accuracy: 0.9136 - val_loss: 1.0633 - val_accuracy: 0.6364\n",
      "Epoch 58/100\n",
      "41/41 [==============================] - 0s 9ms/step - loss: 0.2101 - accuracy: 0.9043 - val_loss: 1.0856 - val_accuracy: 0.6084\n",
      "Epoch 59/100\n",
      "41/41 [==============================] - 0s 9ms/step - loss: 0.1831 - accuracy: 0.9214 - val_loss: 1.2164 - val_accuracy: 0.6014\n",
      "Epoch 60/100\n",
      "41/41 [==============================] - 0s 9ms/step - loss: 0.1859 - accuracy: 0.9230 - val_loss: 1.1486 - val_accuracy: 0.6014\n",
      "Epoch 61/100\n",
      "41/41 [==============================] - 0s 9ms/step - loss: 0.1775 - accuracy: 0.9284 - val_loss: 1.0530 - val_accuracy: 0.6084\n",
      "Epoch 62/100\n",
      "41/41 [==============================] - 0s 9ms/step - loss: 0.1767 - accuracy: 0.9284 - val_loss: 1.2933 - val_accuracy: 0.5804\n",
      "Epoch 63/100\n",
      "41/41 [==============================] - 0s 9ms/step - loss: 0.1504 - accuracy: 0.9409 - val_loss: 1.2170 - val_accuracy: 0.5944\n",
      "Epoch 64/100\n",
      "41/41 [==============================] - 0s 9ms/step - loss: 0.1394 - accuracy: 0.9455 - val_loss: 1.2989 - val_accuracy: 0.5874\n",
      "Epoch 65/100\n",
      "41/41 [==============================] - 0s 9ms/step - loss: 0.1621 - accuracy: 0.9401 - val_loss: 1.2088 - val_accuracy: 0.5804\n",
      "Epoch 66/100\n",
      "41/41 [==============================] - 0s 9ms/step - loss: 0.1779 - accuracy: 0.9323 - val_loss: 1.1638 - val_accuracy: 0.6434\n",
      "Epoch 67/100\n",
      "41/41 [==============================] - 0s 9ms/step - loss: 0.1277 - accuracy: 0.9556 - val_loss: 1.2015 - val_accuracy: 0.6224\n",
      "Epoch 68/100\n",
      "41/41 [==============================] - 0s 9ms/step - loss: 0.1372 - accuracy: 0.9471 - val_loss: 1.2325 - val_accuracy: 0.5874\n",
      "Epoch 69/100\n",
      "41/41 [==============================] - 0s 9ms/step - loss: 0.1163 - accuracy: 0.9580 - val_loss: 1.3661 - val_accuracy: 0.6434\n",
      "Epoch 70/100\n",
      "41/41 [==============================] - 0s 9ms/step - loss: 0.1102 - accuracy: 0.9549 - val_loss: 1.4536 - val_accuracy: 0.6294\n",
      "Epoch 71/100\n",
      "41/41 [==============================] - 0s 9ms/step - loss: 0.1531 - accuracy: 0.9424 - val_loss: 1.1828 - val_accuracy: 0.5944\n",
      "Epoch 72/100\n",
      "41/41 [==============================] - 0s 9ms/step - loss: 0.1528 - accuracy: 0.9409 - val_loss: 1.3034 - val_accuracy: 0.6434\n",
      "Epoch 73/100\n",
      "41/41 [==============================] - 0s 9ms/step - loss: 0.1002 - accuracy: 0.9626 - val_loss: 1.3573 - val_accuracy: 0.5874\n",
      "Epoch 74/100\n",
      "41/41 [==============================] - 0s 10ms/step - loss: 0.1002 - accuracy: 0.9619 - val_loss: 1.3357 - val_accuracy: 0.6224\n",
      "Epoch 75/100\n",
      "41/41 [==============================] - 0s 9ms/step - loss: 0.0954 - accuracy: 0.9634 - val_loss: 1.5496 - val_accuracy: 0.5874\n",
      "Epoch 76/100\n",
      "41/41 [==============================] - 0s 9ms/step - loss: 0.0952 - accuracy: 0.9634 - val_loss: 1.6474 - val_accuracy: 0.6084\n",
      "Epoch 77/100\n",
      "41/41 [==============================] - 0s 9ms/step - loss: 0.0881 - accuracy: 0.9665 - val_loss: 1.6203 - val_accuracy: 0.5734\n",
      "Epoch 78/100\n",
      "41/41 [==============================] - 0s 10ms/step - loss: 0.1161 - accuracy: 0.9541 - val_loss: 1.3598 - val_accuracy: 0.5874\n",
      "Epoch 79/100\n",
      "41/41 [==============================] - 0s 9ms/step - loss: 0.0828 - accuracy: 0.9704 - val_loss: 1.6233 - val_accuracy: 0.6154\n",
      "Epoch 80/100\n",
      "41/41 [==============================] - 0s 9ms/step - loss: 0.0954 - accuracy: 0.9650 - val_loss: 1.4430 - val_accuracy: 0.6224\n",
      "Epoch 81/100\n",
      "41/41 [==============================] - 0s 9ms/step - loss: 0.1118 - accuracy: 0.9588 - val_loss: 1.4387 - val_accuracy: 0.6154\n",
      "Epoch 82/100\n",
      "41/41 [==============================] - 0s 9ms/step - loss: 0.0751 - accuracy: 0.9728 - val_loss: 1.8059 - val_accuracy: 0.5944\n",
      "Epoch 83/100\n",
      "41/41 [==============================] - 0s 9ms/step - loss: 0.0928 - accuracy: 0.9634 - val_loss: 1.4681 - val_accuracy: 0.6154\n",
      "Epoch 84/100\n",
      "41/41 [==============================] - 0s 9ms/step - loss: 0.0946 - accuracy: 0.9619 - val_loss: 1.5775 - val_accuracy: 0.5874\n",
      "Epoch 85/100\n",
      "41/41 [==============================] - 0s 9ms/step - loss: 0.0839 - accuracy: 0.9681 - val_loss: 1.5140 - val_accuracy: 0.6014\n",
      "Epoch 86/100\n",
      "41/41 [==============================] - 0s 9ms/step - loss: 0.0573 - accuracy: 0.9790 - val_loss: 1.6748 - val_accuracy: 0.5944\n",
      "Epoch 87/100\n",
      "41/41 [==============================] - 0s 9ms/step - loss: 0.0660 - accuracy: 0.9751 - val_loss: 1.7580 - val_accuracy: 0.5944\n",
      "Epoch 88/100\n",
      "41/41 [==============================] - 0s 9ms/step - loss: 0.0700 - accuracy: 0.9767 - val_loss: 1.7946 - val_accuracy: 0.5874\n",
      "Epoch 89/100\n",
      "41/41 [==============================] - 0s 9ms/step - loss: 0.0891 - accuracy: 0.9681 - val_loss: 1.6785 - val_accuracy: 0.5874\n",
      "Epoch 90/100\n",
      "41/41 [==============================] - 0s 9ms/step - loss: 0.0498 - accuracy: 0.9782 - val_loss: 1.9690 - val_accuracy: 0.5734\n",
      "Epoch 91/100\n",
      "41/41 [==============================] - 0s 9ms/step - loss: 0.0695 - accuracy: 0.9759 - val_loss: 1.6861 - val_accuracy: 0.6154\n",
      "Epoch 92/100\n",
      "41/41 [==============================] - 0s 9ms/step - loss: 0.0532 - accuracy: 0.9813 - val_loss: 1.8555 - val_accuracy: 0.6084\n",
      "Epoch 93/100\n",
      "41/41 [==============================] - 0s 9ms/step - loss: 0.0757 - accuracy: 0.9728 - val_loss: 1.6787 - val_accuracy: 0.5944\n",
      "Epoch 94/100\n",
      "41/41 [==============================] - 0s 9ms/step - loss: 0.1283 - accuracy: 0.9510 - val_loss: 1.3652 - val_accuracy: 0.6084\n",
      "Epoch 95/100\n",
      "41/41 [==============================] - 0s 9ms/step - loss: 0.0923 - accuracy: 0.9650 - val_loss: 1.5103 - val_accuracy: 0.6014\n",
      "Epoch 96/100\n",
      "41/41 [==============================] - 0s 9ms/step - loss: 0.0573 - accuracy: 0.9767 - val_loss: 1.6472 - val_accuracy: 0.5944\n",
      "Epoch 97/100\n",
      "41/41 [==============================] - 0s 10ms/step - loss: 0.0538 - accuracy: 0.9813 - val_loss: 1.6313 - val_accuracy: 0.6084\n",
      "Epoch 98/100\n",
      "41/41 [==============================] - 0s 9ms/step - loss: 0.0311 - accuracy: 0.9907 - val_loss: 1.8636 - val_accuracy: 0.6154\n",
      "Epoch 99/100\n",
      "41/41 [==============================] - 0s 9ms/step - loss: 0.0598 - accuracy: 0.9767 - val_loss: 1.5896 - val_accuracy: 0.6154\n",
      "Epoch 100/100\n",
      "41/41 [==============================] - 0s 9ms/step - loss: 0.0598 - accuracy: 0.9751 - val_loss: 1.7902 - val_accuracy: 0.5804\n"
     ]
    }
   ],
   "source": [
    "history = model3.fit(X_train,y_trainn,epochs = 100,verbose = 1,validation_split=0.1)"
   ]
  },
  {
   "cell_type": "code",
   "execution_count": 12,
   "id": "aaf8b6c9-74a9-4821-a50f-e3f0134b04d4",
   "metadata": {},
   "outputs": [
    {
     "name": "stdout",
     "output_type": "stream",
     "text": [
      "(1428, 1024)\n",
      "(613, 1024)\n"
     ]
    }
   ],
   "source": [
    "# Taking the CNN outputs and feeding to SVM\n",
    "model_feat = Model(inputs=model3.input,outputs=model3.get_layer('dense_3').output)\n",
    "\n",
    "feat_train = model_feat.predict(X_train)\n",
    "print(feat_train.shape)\n",
    "\n",
    "feat_test = model_feat.predict(X_test)\n",
    "print(feat_test.shape)"
   ]
  },
  {
   "cell_type": "code",
   "execution_count": null,
   "id": "9b9dd9e0-a1e4-4583-bd44-0994b45dfb7a",
   "metadata": {},
   "outputs": [],
   "source": []
  },
  {
   "cell_type": "code",
   "execution_count": 13,
   "id": "9f76e011-3952-4519-932f-46249a0e2a09",
   "metadata": {},
   "outputs": [
    {
     "name": "stdout",
     "output_type": "stream",
     "text": [
      "Training on SVM complete\n"
     ]
    }
   ],
   "source": [
    "from sklearn.svm import SVC\n",
    "\n",
    "svm = SVC(kernel='rbf')\n",
    "\n",
    "svm.fit(feat_train,np.argmax(y_trainn,axis=1))\n",
    "\n",
    "print('Training on SVM complete')"
   ]
  },
  {
   "cell_type": "code",
   "execution_count": 14,
   "id": "f507aea7-e1ed-484d-bf04-eba0bf1aaea7",
   "metadata": {},
   "outputs": [
    {
     "data": {
      "text/plain": [
       "0.9642857142857143"
      ]
     },
     "execution_count": 14,
     "metadata": {},
     "output_type": "execute_result"
    }
   ],
   "source": [
    "svm.score(feat_train,np.argmax(y_trainn,axis=1))"
   ]
  },
  {
   "cell_type": "code",
   "execution_count": 15,
   "id": "f15471f9-a794-48fa-a9fb-3fc9e09223fc",
   "metadata": {},
   "outputs": [
    {
     "name": "stdout",
     "output_type": "stream",
     "text": [
      "              precision    recall  f1-score   support\n",
      "\n",
      "           0       0.56      0.59      0.57       288\n",
      "           1       0.62      0.60      0.61       325\n",
      "\n",
      "    accuracy                           0.59       613\n",
      "   macro avg       0.59      0.59      0.59       613\n",
      "weighted avg       0.59      0.59      0.59       613\n",
      "\n"
     ]
    }
   ],
   "source": [
    "predictions = svm.predict(feat_test)\n",
    "from sklearn.metrics import classification_report\n",
    "print(classification_report(y_test,predictions))"
   ]
  },
  {
   "cell_type": "code",
   "execution_count": 16,
   "id": "ec3f87be-bf34-4829-beb2-03fc421b249b",
   "metadata": {},
   "outputs": [],
   "source": [
    "model3.save('model3.h5')\n",
    "model3.save_weights('model3_weights.h5')"
   ]
  },
  {
   "cell_type": "code",
   "execution_count": null,
   "id": "c2f3d105-748f-47fc-a046-6177d2bdd762",
   "metadata": {},
   "outputs": [],
   "source": []
  }
 ],
 "metadata": {
  "kernelspec": {
   "display_name": "Python 3 (ipykernel)",
   "language": "python",
   "name": "python3"
  },
  "language_info": {
   "codemirror_mode": {
    "name": "ipython",
    "version": 3
   },
   "file_extension": ".py",
   "mimetype": "text/x-python",
   "name": "python",
   "nbconvert_exporter": "python",
   "pygments_lexer": "ipython3",
   "version": "3.9.7"
  }
 },
 "nbformat": 4,
 "nbformat_minor": 5
}
