{
 "cells": [
  {
   "cell_type": "code",
   "execution_count": 1,
   "id": "d359954d-b15b-4bd1-b617-7202c7cf6130",
   "metadata": {},
   "outputs": [],
   "source": [
    "import numpy as np"
   ]
  },
  {
   "cell_type": "code",
   "execution_count": 15,
   "id": "51fa3248-aa1b-4dd1-973a-d8ae7f75702e",
   "metadata": {},
   "outputs": [
    {
     "data": {
      "text/plain": [
       "(3, 4)"
      ]
     },
     "execution_count": 15,
     "metadata": {},
     "output_type": "execute_result"
    }
   ],
   "source": [
    "M = np.asarray([[512, -800, 0, 800],[512,0,-800,1600],[1,0,0,0]])\n",
    "M.shape"
   ]
  },
  {
   "cell_type": "code",
   "execution_count": 14,
   "id": "30c2c76d-4c41-40b5-830b-3c06ca24269b",
   "metadata": {},
   "outputs": [
    {
     "data": {
      "text/plain": [
       "(4, 1)"
      ]
     },
     "execution_count": 14,
     "metadata": {},
     "output_type": "execute_result"
    }
   ],
   "source": [
    "X = np.asarray([[4],[0],[0],[1]])\n",
    "X.shape"
   ]
  },
  {
   "cell_type": "code",
   "execution_count": 19,
   "id": "b7f7ff9a-70a3-4467-8f3d-cfaf1c625ae2",
   "metadata": {},
   "outputs": [
    {
     "data": {
      "text/plain": [
       "array([[2848],\n",
       "       [3648],\n",
       "       [   4]])"
      ]
     },
     "execution_count": 19,
     "metadata": {},
     "output_type": "execute_result"
    }
   ],
   "source": [
    "M@X"
   ]
  },
  {
   "cell_type": "markdown",
   "id": "44a9f941-9131-427c-972c-e02763f56b8e",
   "metadata": {},
   "source": [
    "#### Q1"
   ]
  },
  {
   "cell_type": "code",
   "execution_count": 2,
   "id": "56c35800-5c54-4b73-8544-1eff81526b0b",
   "metadata": {},
   "outputs": [],
   "source": [
    "lst = []\n",
    "E = [[321.747,309.140,30.086,880,214],[305.749,311.649,30.356,43,203],\n",
    "     [307.694,312.356,30.416,270,197],[310.149,307.186,29.298,886,347],\n",
    "    [311.937,310.105,29.216,745,302],[311.202,307.572,30.682,943,128],\n",
    "    [307.106,306.878,28.660,476,590],[309.317,312.490,30.230,419,214],\n",
    "    [307.435,310.151,29.318,317,335],[308.253,306.300,28.881,783,521],\n",
    "    [306.650,309.301,28.905,235,427],[308.069,306.831,29.189,665,429],\n",
    "    [309.671,308.834,29.029,665,362],[308.255,309.955,29.267,427,333],\n",
    "    [307.546,308.613,28.963,412,415],[311.036,309.206,28.913,746,351],\n",
    "    [307.519,308.175,29.069,434,415],[309.950,311.262,29.990,525,234],\n",
    "    [312.160,310.772,29.080,716,308],[311.988,312.709,30.514,602,187]]\n"
   ]
  },
  {
   "cell_type": "code",
   "execution_count": 3,
   "id": "ab046b13-cddc-47eb-8c3f-29a2726611e4",
   "metadata": {},
   "outputs": [],
   "source": [
    "lst = []\n",
    "# v = [305.749,311.649,30.356,43,203]\n",
    "\n",
    "# s1+=f'{i for i in v[0:3]}' \n",
    "# s1+=f'{1,0,0,0,0}'\n",
    "# s1+=f'{-v[3]*i for i in v[0:3]}'\n",
    "# s1\n",
    "\n",
    "# s2+=f'0,0,0,0,'\n",
    "for v in E:\n",
    "    s1 = []\n",
    "    s2 = []\n",
    "    s2+=[0]*4\n",
    "    for i in v[0:3]:\n",
    "        s1.append(i)\n",
    "        s2.append(i)\n",
    "    s2+=[1]\n",
    "\n",
    "    s1+=[1]\n",
    "    s1+=[0]*4\n",
    "    for i in v[0:3]:\n",
    "        s1.append(-i*v[3])\n",
    "        s2.append(-i*v[4])\n",
    "    s1.append(-v[3])\n",
    "    s2.append(-v[4])\n",
    "    # int(s1.split(','))\n",
    "    s1,s2\n",
    "    lst.append(s1)\n",
    "    lst.append(s2)\n",
    "# lst"
   ]
  },
  {
   "cell_type": "code",
   "execution_count": 4,
   "id": "712bb09f-b84b-42fc-9f63-0461776ec62f",
   "metadata": {},
   "outputs": [],
   "source": [
    "# A = np.asarray([[321.747,309.140,30.086,1,0,0,0,0,-880*312.747,-880*30.086,-880],\n",
    "#                [0,0,0,0,312.747,309.140,30.086,1,-214*312.747,-214*312.747,-214*309.140,-214*30.086,-214],\n",
    "#                [305.796,311.649,30.356,1,0,0,0,0,-43*305.796,-43*311.649,-43*30.356,-43],\n",
    "#                 [0,0,0,0,305.796,311.649,30.356,1,-203*305.796,-203*311.649,-43*30.356,-203],\n",
    "#                [307.694,312.356,30.416,1,0,0,0,0,-270*307.694,-270*312.356,-270*30.416,-270],\n",
    "#                [0,0,0,0,307.694,312.356,30.416,-197*307.694,-197*312.356,-197*30.416,-197]])"
   ]
  },
  {
   "cell_type": "code",
   "execution_count": 5,
   "id": "bdddde69-3163-49a5-bf1e-49a108cee744",
   "metadata": {},
   "outputs": [
    {
     "data": {
      "text/plain": [
       "(40, 1)"
      ]
     },
     "execution_count": 5,
     "metadata": {},
     "output_type": "execute_result"
    }
   ],
   "source": [
    "b=[]\n",
    "for i in E:\n",
    "    b.append(i[-2:])\n",
    "b = list(np.concatenate(b).flat)\n",
    "b = [[i] for i in b]\n",
    "b = np.asarray(b)\n",
    "b.shape"
   ]
  },
  {
   "cell_type": "code",
   "execution_count": 6,
   "id": "050f019f-1be5-4b96-83cb-368cb85104db",
   "metadata": {},
   "outputs": [],
   "source": [
    "# lst\n",
    "# k = [1,1,1,1,1]\n",
    "# k.append([11,22])\n",
    "# k"
   ]
  },
  {
   "cell_type": "code",
   "execution_count": 7,
   "id": "b3f33fde-b2f9-461a-942b-b3594c224ae8",
   "metadata": {},
   "outputs": [
    {
     "data": {
      "text/plain": [
       "(40, 12)"
      ]
     },
     "execution_count": 7,
     "metadata": {},
     "output_type": "execute_result"
    }
   ],
   "source": [
    "A = np.asarray(lst)\n",
    "A.shape"
   ]
  },
  {
   "cell_type": "code",
   "execution_count": 8,
   "id": "eb2a5821-3d34-4231-b42f-7e32c2e6157c",
   "metadata": {},
   "outputs": [
    {
     "name": "stderr",
     "output_type": "stream",
     "text": [
      "C:\\Users\\KHADGA~1\\AppData\\Local\\Temp/ipykernel_13268/4232564574.py:2: FutureWarning: `rcond` parameter will change to the default of machine precision times ``max(M, N)`` where M and N are the input matrix dimensions.\n",
      "To use the future default and silence this warning we advise to pass `rcond=None`, to keep using the old, explicitly pass `rcond=-1`.\n",
      "  M = np.linalg.lstsq(A,b)[0]\n"
     ]
    },
    {
     "data": {
      "text/plain": [
       "array([[ 4.98824634e-14, -1.19583163e-14,  2.01748951e-13,\n",
       "        -1.72502877e-11],\n",
       "       [ 7.81059245e-16,  2.21373484e-14, -3.77597123e-15,\n",
       "        -6.85046469e-12],\n",
       "       [ 3.64291930e-17,  6.70036943e-17,  2.38903949e-16,\n",
       "        -1.00000000e+00]])"
      ]
     },
     "execution_count": 8,
     "metadata": {},
     "output_type": "execute_result"
    }
   ],
   "source": [
    "M = []\n",
    "M = np.linalg.lstsq(A,b)[0]\n",
    "# M = np.append(M,1)\n",
    "M\n",
    "M = np.reshape(M,(3,4))\n",
    "M"
   ]
  },
  {
   "cell_type": "code",
   "execution_count": 9,
   "id": "011dd773-3621-42fd-aae6-1d0cda6f40ce",
   "metadata": {},
   "outputs": [
    {
     "name": "stderr",
     "output_type": "stream",
     "text": [
      "C:\\Users\\KHADGA~1\\AppData\\Local\\Temp/ipykernel_13268/4232833868.py:1: FutureWarning: `rcond` parameter will change to the default of machine precision times ``max(M, N)`` where M and N are the input matrix dimensions.\n",
      "To use the future default and silence this warning we advise to pass `rcond=None`, to keep using the old, explicitly pass `rcond=-1`.\n",
      "  M = np.linalg.lstsq(A,b)\n",
      "C:\\Users\\KHADGA JYOTH ALLI\\anaconda3\\lib\\site-packages\\numpy\\lib\\function_base.py:4811: VisibleDeprecationWarning: Creating an ndarray from ragged nested sequences (which is a list-or-tuple of lists-or-tuples-or ndarrays with different lengths or shapes) is deprecated. If you meant to do this, you must specify 'dtype=object' when creating the ndarray.\n",
      "  arr = asanyarray(arr)\n"
     ]
    },
    {
     "ename": "ValueError",
     "evalue": "cannot reshape array of size 5 into shape (3,4)",
     "output_type": "error",
     "traceback": [
      "\u001b[1;31m---------------------------------------------------------------------------\u001b[0m",
      "\u001b[1;31mValueError\u001b[0m                                Traceback (most recent call last)",
      "\u001b[1;32mC:\\Users\\KHADGA~1\\AppData\\Local\\Temp/ipykernel_13268/4232833868.py\u001b[0m in \u001b[0;36m<module>\u001b[1;34m\u001b[0m\n\u001b[0;32m      1\u001b[0m \u001b[0mM\u001b[0m \u001b[1;33m=\u001b[0m \u001b[0mnp\u001b[0m\u001b[1;33m.\u001b[0m\u001b[0mlinalg\u001b[0m\u001b[1;33m.\u001b[0m\u001b[0mlstsq\u001b[0m\u001b[1;33m(\u001b[0m\u001b[0mA\u001b[0m\u001b[1;33m,\u001b[0m\u001b[0mb\u001b[0m\u001b[1;33m)\u001b[0m\u001b[1;33m\u001b[0m\u001b[1;33m\u001b[0m\u001b[0m\n\u001b[0;32m      2\u001b[0m \u001b[0mM\u001b[0m \u001b[1;33m=\u001b[0m \u001b[0mnp\u001b[0m\u001b[1;33m.\u001b[0m\u001b[0mappend\u001b[0m\u001b[1;33m(\u001b[0m\u001b[0mM\u001b[0m\u001b[1;33m,\u001b[0m\u001b[1;36m1\u001b[0m\u001b[1;33m)\u001b[0m\u001b[1;33m\u001b[0m\u001b[1;33m\u001b[0m\u001b[0m\n\u001b[1;32m----> 3\u001b[1;33m \u001b[0mM\u001b[0m \u001b[1;33m=\u001b[0m \u001b[0mnp\u001b[0m\u001b[1;33m.\u001b[0m\u001b[0mreshape\u001b[0m\u001b[1;33m(\u001b[0m\u001b[0mM\u001b[0m\u001b[1;33m,\u001b[0m\u001b[1;33m(\u001b[0m\u001b[1;36m3\u001b[0m\u001b[1;33m,\u001b[0m\u001b[1;36m4\u001b[0m\u001b[1;33m)\u001b[0m\u001b[1;33m)\u001b[0m\u001b[1;33m\u001b[0m\u001b[1;33m\u001b[0m\u001b[0m\n\u001b[0m\u001b[0;32m      4\u001b[0m \u001b[0mM\u001b[0m\u001b[1;33m\u001b[0m\u001b[1;33m\u001b[0m\u001b[0m\n",
      "\u001b[1;32m<__array_function__ internals>\u001b[0m in \u001b[0;36mreshape\u001b[1;34m(*args, **kwargs)\u001b[0m\n",
      "\u001b[1;32m~\\anaconda3\\lib\\site-packages\\numpy\\core\\fromnumeric.py\u001b[0m in \u001b[0;36mreshape\u001b[1;34m(a, newshape, order)\u001b[0m\n\u001b[0;32m    296\u001b[0m            [5, 6]])\n\u001b[0;32m    297\u001b[0m     \"\"\"\n\u001b[1;32m--> 298\u001b[1;33m     \u001b[1;32mreturn\u001b[0m \u001b[0m_wrapfunc\u001b[0m\u001b[1;33m(\u001b[0m\u001b[0ma\u001b[0m\u001b[1;33m,\u001b[0m \u001b[1;34m'reshape'\u001b[0m\u001b[1;33m,\u001b[0m \u001b[0mnewshape\u001b[0m\u001b[1;33m,\u001b[0m \u001b[0morder\u001b[0m\u001b[1;33m=\u001b[0m\u001b[0morder\u001b[0m\u001b[1;33m)\u001b[0m\u001b[1;33m\u001b[0m\u001b[1;33m\u001b[0m\u001b[0m\n\u001b[0m\u001b[0;32m    299\u001b[0m \u001b[1;33m\u001b[0m\u001b[0m\n\u001b[0;32m    300\u001b[0m \u001b[1;33m\u001b[0m\u001b[0m\n",
      "\u001b[1;32m~\\anaconda3\\lib\\site-packages\\numpy\\core\\fromnumeric.py\u001b[0m in \u001b[0;36m_wrapfunc\u001b[1;34m(obj, method, *args, **kwds)\u001b[0m\n\u001b[0;32m     55\u001b[0m \u001b[1;33m\u001b[0m\u001b[0m\n\u001b[0;32m     56\u001b[0m     \u001b[1;32mtry\u001b[0m\u001b[1;33m:\u001b[0m\u001b[1;33m\u001b[0m\u001b[1;33m\u001b[0m\u001b[0m\n\u001b[1;32m---> 57\u001b[1;33m         \u001b[1;32mreturn\u001b[0m \u001b[0mbound\u001b[0m\u001b[1;33m(\u001b[0m\u001b[1;33m*\u001b[0m\u001b[0margs\u001b[0m\u001b[1;33m,\u001b[0m \u001b[1;33m**\u001b[0m\u001b[0mkwds\u001b[0m\u001b[1;33m)\u001b[0m\u001b[1;33m\u001b[0m\u001b[1;33m\u001b[0m\u001b[0m\n\u001b[0m\u001b[0;32m     58\u001b[0m     \u001b[1;32mexcept\u001b[0m \u001b[0mTypeError\u001b[0m\u001b[1;33m:\u001b[0m\u001b[1;33m\u001b[0m\u001b[1;33m\u001b[0m\u001b[0m\n\u001b[0;32m     59\u001b[0m         \u001b[1;31m# A TypeError occurs if the object does have such a method in its\u001b[0m\u001b[1;33m\u001b[0m\u001b[1;33m\u001b[0m\u001b[1;33m\u001b[0m\u001b[0m\n",
      "\u001b[1;31mValueError\u001b[0m: cannot reshape array of size 5 into shape (3,4)"
     ]
    }
   ],
   "source": [
    "M = np.linalg.lstsq(A,b)\n",
    "M = np.append(M,1)\n",
    "M = np.reshape(M,(3,4))\n",
    "M"
   ]
  },
  {
   "cell_type": "code",
   "execution_count": 10,
   "id": "79936623-7916-4880-a171-3f42ed3777a7",
   "metadata": {},
   "outputs": [
    {
     "data": {
      "text/plain": [
       "[0,\n",
       " 0,\n",
       " 0,\n",
       " 0,\n",
       " 0,\n",
       " 0,\n",
       " 0,\n",
       " 0,\n",
       " 0,\n",
       " 0,\n",
       " 0,\n",
       " 0,\n",
       " 0,\n",
       " 0,\n",
       " 0,\n",
       " 0,\n",
       " 0,\n",
       " 0,\n",
       " 0,\n",
       " 0,\n",
       " 0,\n",
       " 0,\n",
       " 0,\n",
       " 0,\n",
       " 0,\n",
       " 0,\n",
       " 0,\n",
       " 0,\n",
       " 0,\n",
       " 0,\n",
       " 0,\n",
       " 0,\n",
       " 0,\n",
       " 0,\n",
       " 0,\n",
       " 0,\n",
       " 0,\n",
       " 0,\n",
       " 0,\n",
       " 0]"
      ]
     },
     "execution_count": 10,
     "metadata": {},
     "output_type": "execute_result"
    }
   ],
   "source": [
    "b= [0]*len(b)\n",
    "b"
   ]
  },
  {
   "cell_type": "code",
   "execution_count": 11,
   "id": "f7fdbd2d-cfdf-45d7-81cf-c5cbf6d2eb24",
   "metadata": {},
   "outputs": [
    {
     "data": {
      "text/plain": [
       "array([[ 2.04983984e-03,  1.21720953e-03, -2.20303232e-03,\n",
       "        -9.39929354e-01],\n",
       "       [ 4.87459881e-04,  8.02522553e-04, -1.86467461e-03,\n",
       "        -3.41344347e-01],\n",
       "       [ 2.03219058e-06,  2.75155559e-06, -2.49136573e-06,\n",
       "        -1.39651144e-03]])"
      ]
     },
     "execution_count": 11,
     "metadata": {},
     "output_type": "execute_result"
    }
   ],
   "source": [
    "U,S,Vh = np.linalg.svd(A)\n",
    "M = Vh[-1,:]\n",
    "M = np.reshape(M,(3,4))\n",
    "M"
   ]
  },
  {
   "cell_type": "code",
   "execution_count": 4,
   "id": "fe299ca4-ea30-4d5a-a8f2-d8aebfc928f6",
   "metadata": {},
   "outputs": [
    {
     "data": {
      "text/plain": [
       "(3, 4)"
      ]
     },
     "execution_count": 4,
     "metadata": {},
     "output_type": "execute_result"
    }
   ],
   "source": [
    "M = np.array([[ 2.04983984e-03,  1.21720953e-03, -2.20303232e-03,\n",
    "        -9.39929354e-01],\n",
    "       [ 4.87459881e-04,  8.02522553e-04, -1.86467461e-03,\n",
    "        -3.41344347e-01],\n",
    "       [ 2.03219058e-06,  2.75155559e-06, -2.49136573e-06,\n",
    "        -1.39651144e-03]])\n",
    "M.shape"
   ]
  },
  {
   "cell_type": "code",
   "execution_count": 15,
   "id": "75f97996-3335-4137-abee-097bbec34d46",
   "metadata": {},
   "outputs": [
    {
     "data": {
      "text/plain": [
       "array([[ 7.98291139e+02, -7.72255649e+02, -1.27904015e+05],\n",
       "       [-6.56434973e+02, -1.60587068e+02,  7.00655896e+05],\n",
       "       [-7.38300214e+01, -8.07282076e+02,  2.68113311e+05]])"
      ]
     },
     "execution_count": 15,
     "metadata": {},
     "output_type": "execute_result"
    }
   ],
   "source": [
    "H = M[:,:3]\n",
    "h = M[:,3].reshape(3,1)\n",
    "H_inv = np.linalg.inv(H)\n",
    "H_inv"
   ]
  },
  {
   "cell_type": "code",
   "execution_count": 16,
   "id": "dde73d9d-726d-45f0-8213-84ffb78e120c",
   "metadata": {},
   "outputs": [],
   "source": [
    "R_T,K_inv = np.linalg.qr(H_inv)\n"
   ]
  },
  {
   "cell_type": "code",
   "execution_count": 26,
   "id": "34b5af37-7d9b-4c77-8013-7b87f21f2906",
   "metadata": {},
   "outputs": [
    {
     "data": {
      "text/plain": [
       "array([[-0.77043269, -0.4193071 , -0.48022394],\n",
       "       [ 0.63352696, -0.4193599 , -0.65021601],\n",
       "       [ 0.07125353, -0.80518248,  0.58873093]])"
      ]
     },
     "execution_count": 26,
     "metadata": {},
     "output_type": "execute_result"
    }
   ],
   "source": [
    "R_T "
   ]
  },
  {
   "cell_type": "code",
   "execution_count": 27,
   "id": "0d477750-4798-4d49-ad8a-ae108a24a7fe",
   "metadata": {},
   "outputs": [
    {
     "data": {
      "text/plain": [
       "array([[-0.77043269, -0.4193071 , -0.48022394],\n",
       "       [ 0.63352696, -0.4193599 , -0.65021601],\n",
       "       [ 0.07125353, -0.80518248,  0.58873093]])"
      ]
     },
     "execution_count": 27,
     "metadata": {},
     "output_type": "execute_result"
    }
   ],
   "source": [
    "np.linalg.inv(R_T.T)"
   ]
  },
  {
   "cell_type": "code",
   "execution_count": 30,
   "id": "88a898b4-dc79-4993-9556-662ac915113a",
   "metadata": {},
   "outputs": [
    {
     "data": {
      "text/plain": [
       "array([[-1.03615949e+03,  4.35713059e+02,  5.61529854e+05],\n",
       "       [ 0.00000000e+00,  1.04116544e+03, -4.56076066e+05],\n",
       "       [ 0.00000000e+00,  0.00000000e+00, -2.36308514e+05]])"
      ]
     },
     "execution_count": 30,
     "metadata": {},
     "output_type": "execute_result"
    }
   ],
   "source": [
    "K_inv"
   ]
  },
  {
   "cell_type": "code",
   "execution_count": null,
   "id": "08b1df90-431a-4bb9-83de-239bd1a1f5d5",
   "metadata": {},
   "outputs": [],
   "source": []
  }
 ],
 "metadata": {
  "kernelspec": {
   "display_name": "Python 3 (ipykernel)",
   "language": "python",
   "name": "python3"
  },
  "language_info": {
   "codemirror_mode": {
    "name": "ipython",
    "version": 3
   },
   "file_extension": ".py",
   "mimetype": "text/x-python",
   "name": "python",
   "nbconvert_exporter": "python",
   "pygments_lexer": "ipython3",
   "version": "3.8.8"
  }
 },
 "nbformat": 4,
 "nbformat_minor": 5
}
